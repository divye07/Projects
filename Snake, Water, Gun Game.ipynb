{
 "cells": [
  {
   "cell_type": "code",
   "execution_count": 3,
   "id": "6c4c3959-56b2-47ed-9328-72aa3c0f0aa7",
   "metadata": {},
   "outputs": [],
   "source": [
    "import random"
   ]
  },
  {
   "cell_type": "code",
   "execution_count": 23,
   "id": "aef89076-c1cc-46d6-8a42-eaa984f53edc",
   "metadata": {},
   "outputs": [
    {
     "name": "stdin",
     "output_type": "stream",
     "text": [
      "Enter your choice g\n"
     ]
    },
    {
     "name": "stdout",
     "output_type": "stream",
     "text": [
      "You chose Gun\n",
      "Computer chose Snake\n",
      "You Win!\n"
     ]
    }
   ],
   "source": [
    "computer = random.choice([-1, 0, 1])\n",
    "youDict = {\"s\": 1, \"w\": -1, \"g\": 0}\n",
    "reverseDict = {1: \"Snake\", -1: \"Water\", 0: \"Gun\"}\n",
    "youstr = input(\"Enter your choice: \")\n",
    "you = youDict[youstr]\n",
    "#logic\n",
    "print(f\"You chose {reverseDict[you]}\\nComputer chose {reverseDict[computer]}\")\n",
    "if(computer==you):\n",
    "    print(\"It's a draw \\nYou think like AI\")\n",
    "else:\n",
    "    if(computer ==-1 and you == 1): \n",
    "        print(\"You win!\")\n",
    "\n",
    "    elif(computer ==-1 and you == 0):\n",
    "        print(\"You Lose!\")\n",
    "\n",
    "    elif(computer == 1 and you == -1):\n",
    "        print(\"You lose!\")\n",
    "\n",
    "    elif(computer ==1 and you == 0):\n",
    "        print(\"You Win!\")\n",
    "\n",
    "    elif(computer ==0 and you == -1):\n",
    "        print(\"You Win!\")\n",
    "\n",
    "    elif(computer == 0 and you == 1):\n",
    "        print(\"You Lose!\")\n",
    "\n",
    "    else:\n",
    "        print(\"Something went wrong!\")"
   ]
  }
 ],
 "metadata": {
  "kernelspec": {
   "display_name": "Python 3 (ipykernel)",
   "language": "python",
   "name": "python3"
  },
  "language_info": {
   "codemirror_mode": {
    "name": "ipython",
    "version": 3
   },
   "file_extension": ".py",
   "mimetype": "text/x-python",
   "name": "python",
   "nbconvert_exporter": "python",
   "pygments_lexer": "ipython3",
   "version": "3.12.4"
  }
 },
 "nbformat": 4,
 "nbformat_minor": 5
}
